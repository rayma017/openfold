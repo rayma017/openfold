{
 "cells": [
  {
   "cell_type": "code",
   "execution_count": 4,
   "id": "raising-conversation",
   "metadata": {},
   "outputs": [
    {
     "name": "stdout",
     "output_type": "stream",
     "text": [
      "3.10.14 | packaged by conda-forge | (main, Mar 20 2024, 12:45:18) [GCC 12.3.0]\n",
      "/scratch.global/rayma017/.conda/envs/openfold-env\n",
      "DATA_BASENAME=/scratch.global/rayma017/.data\n",
      "CUDA is available.\n",
      "Current GPU device index: 0\n",
      "GPU name: NVIDIA A40\n",
      "CUDA version: 12.4\n",
      "OPENFOLD_HOME=/scratch.global/rayma017/.conda/envs/openfold-env \n",
      "OPENFOLD_DATA_DIR/scratch.global/rayma017/.data/openfold\n"
     ]
    }
   ],
   "source": [
    "import sys\n",
    "import os\n",
    "import torch\n",
    "\n",
    "print(sys.version)\n",
    "\n",
    "try:\n",
    "    print(os.environ['OPENFOLD_HOME'])\n",
    "    OPENFOLD_HOME=os.environ['OPENFOLD_HOME']\n",
    "except:\n",
    "    OPENFOLD_BIN=os.path.dirname(sys.executable)\n",
    "    os.environ['OPENFOLD_BIN']=OPENFOLD_BIN\n",
    "    OPENFOLD_HOME=os.path.dirname(OPENFOLD_BIN)    \n",
    "    os.environ['OPENFOLD_HOME']=OPENFOLD_HOME\n",
    "\n",
    "try:\n",
    "    os.environ['DATA_BASENAME']\n",
    "except:\n",
    "    DATA_BASENAME=os.environ['USER']    \n",
    "    os.environ['DATA_BASENAME']=DATA_BASENAME\n",
    "print('DATA_BASENAME='+os.environ['DATA_BASENAME'])\n",
    "\n",
    "try:\n",
    "    OPENFOLD_DATA_DIR=os.path.dirname('/scratch.global/'+os.environ['USER']+'/.data/openfold/data_dir')\n",
    "except:\n",
    "    os.mkdir(os.path.dirname('/scratch.global/'+os.environ['USER']))\n",
    "    os.mkdir(os.path.dirname('/scratch.global/'+os.environ['USER']+'/.data'))\n",
    "    os.mkdir(os.path.dirname('/scratch.global/'+os.environ['USER']+'/.data/openfold'))\n",
    "    os.mkdir(os.path.dirname('/scratch.global/'+os.environ['USER']+'/.data/openfold/data_dir'))\n",
    "    OPENFOLD_DATA_DIR=os.path.dirname('/scratch.global/'+os.environ['USER']+'/.data/openfold/data_dir')\n",
    "\n",
    "if torch.cuda.is_available():\n",
    "    print(\"CUDA is available.\")\n",
    "    current_device = torch.cuda.current_device()\n",
    "    print(f\"Current GPU device index: {current_device}\")\n",
    "    print(f\"GPU name: {torch.cuda.get_device_name(current_device)}\")\n",
    "    print(f\"CUDA version: {torch.version.cuda}\")\n",
    "else:\n",
    "    print(\"CUDA is not available.\")\n",
    "\n",
    "print('OPENFOLD_HOME='+OPENFOLD_HOME,'\\nOPENFOLD_DATA_DIR'+OPENFOLD_DATA_DIR)"
   ]
  },
  {
   "cell_type": "code",
   "execution_count": null,
   "id": "moral-medicine",
   "metadata": {},
   "outputs": [],
   "source": []
  }
 ],
 "metadata": {
  "kernelspec": {
   "display_name": "Python openfold",
   "language": "python",
   "name": "openfold-env"
  },
  "language_info": {
   "codemirror_mode": {
    "name": "ipython",
    "version": 3
   },
   "file_extension": ".py",
   "mimetype": "text/x-python",
   "name": "python",
   "nbconvert_exporter": "python",
   "pygments_lexer": "ipython3",
   "version": "3.10.14"
  }
 },
 "nbformat": 4,
 "nbformat_minor": 5
}
